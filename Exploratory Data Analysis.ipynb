{
 "cells": [
  {
   "cell_type": "markdown",
   "metadata": {},
   "source": [
    "# Explore the dataset\n",
    "\n",
    "\n",
    "In this notebook, we will perform an EDA (Exploratory Data Analysis) on the processed Waymo dataset (data in the `processed` folder). In the first part, you will create a function to display "
   ]
  },
  {
   "cell_type": "code",
   "execution_count": null,
   "metadata": {},
   "outputs": [],
   "source": [
    "#-*- coding: utf-8 -*-\n",
    "from utils import get_dataset\n",
    "import matplotlib.pyplot as plt\n",
    "from matplotlib.patches import Rectangle\n",
    "import numpy as np\n",
    "%matplotlib inline"
   ]
  },
  {
   "cell_type": "code",
   "execution_count": null,
   "metadata": {
    "scrolled": true
   },
   "outputs": [],
   "source": [
    "dataset = get_dataset(\"data/waymo/training_and_validation/segment-1146261869236413282_1680_000_1700_000_with_camera_labels.tfrecord\")"
   ]
  },
  {
   "cell_type": "markdown",
   "metadata": {},
   "source": [
    "## Write a function to display an image and the bounding boxes\n",
    "\n",
    "Implement the `display_instances` function below. This function takes a batch as an input and display an image with its corresponding bounding boxes. The only requirement is that the classes should be color coded (eg, vehicles in red, pedestrians in blue, cyclist in green)."
   ]
  },
  {
   "cell_type": "code",
   "execution_count": null,
   "metadata": {},
   "outputs": [],
   "source": [
    "def display_instances(batch):\n",
    "    \"\"\"\n",
    "    This function takes a batch from the dataset and display the image with \n",
    "    the associated bounding boxes.\n",
    "    \"\"\"\n",
    "    # ADD CODE HERE\n",
    "    name  = batch[\"filename\"]\n",
    "    image = batch[\"image\"].numpy()\n",
    "    boxes = batch[\"groundtruth_boxes\"].numpy()\n",
    "    classes = batch[\"groundtruth_classes\"].numpy()\n",
    "    \n",
    "    print('file name: {}'.format(name))\n",
    "    print('image shape: {}'.format(image.shape))\n",
    "    print('# of boxes: {}'.format(len(boxes)))\n",
    "    print('# of objects: {}'.format(len(classes)))\n",
    "    \n",
    "    _, ax = plt.subplots(1, figsize=(20, 10))\n",
    "    \n",
    "    #color mapping of classes\n",
    "    colorMap = {1: 'red',   # vehicles\n",
    "                2: 'blue',  # pedestrians\n",
    "                4: 'green'} # cyclist\n",
    "    \n",
    "    for cls, box in zip(classes, boxes):\n",
    "        y1, x1, y2, x2 = box\n",
    "        y1 = y1*image.shape[0]\n",
    "        x1 = x1*image.shape[1]\n",
    "        y2 = y2*image.shape[0]\n",
    "        x2 = x2*image.shape[1]\n",
    "        rec = Rectangle((x1, y1), x2-x1, y2-y1,\n",
    "                  facecolor='none',\n",
    "                  edgecolor=colorMap[cls])\n",
    "        ax.add_patch(rec)\n",
    "    ax.imshow(image)\n",
    "    \n",
    "    plt.show()"
   ]
  },
  {
   "cell_type": "markdown",
   "metadata": {},
   "source": [
    "## Display 10 images \n",
    "\n",
    "Using the dataset created in the second cell and the function you just coded, display 10 random images with the associated bounding boxes. You can use the methods `take` and `shuffle` on the dataset."
   ]
  },
  {
   "cell_type": "code",
   "execution_count": null,
   "metadata": {
    "scrolled": false
   },
   "outputs": [],
   "source": [
    "## STUDENT SOLUTION HERE\n",
    "## shuffle dataset and display 10 images\n",
    "for batches in dataset.shuffle(1).take(10):\n",
    "    display_instances(batches)\n"
   ]
  },
  {
   "cell_type": "markdown",
   "metadata": {},
   "source": [
    "## Additional EDA\n",
    "\n",
    "In this last part, you are free to perform any additional analysis of the dataset. What else would like to know about the data?\n",
    "For example, think about data distribution. So far, you have only looked at a single file..."
   ]
  },
  {
   "cell_type": "code",
   "execution_count": null,
   "metadata": {},
   "outputs": [],
   "source": [
    "# Loading all tfrecords\n",
    "dataset = get_dataset(\"data/waymo/training_and_validation/*.tfrecord\")"
   ]
  },
  {
   "cell_type": "code",
   "execution_count": null,
   "metadata": {},
   "outputs": [],
   "source": [
    "def data_distribution_instances():\n",
    "    cntVehicles = 0\n",
    "    cntPedestrians = 0\n",
    "    cntCyclist = 0\n",
    "\n",
    "    for batch in dataset.shuffle(1).take(1000):\n",
    "        objects = batch[\"groundtruth_classes\"].numpy()\n",
    "        for objClass in objects:\n",
    "            if objClass == 1:\n",
    "                cntVehicles += 1\n",
    "            elif objClass == 2:\n",
    "                cntPedestrians += 1\n",
    "            elif objClass == 4:\n",
    "                cntCyclist += 1\n",
    "    \n",
    "    # variables for plot\n",
    "    classes = ['Vehicle', 'Pedestrian', 'Cyclist']\n",
    "    cntObject = [cntVehicles, cntPedestrians, cntCyclist]\n",
    "    colorOfClass = ['red', 'blue', 'green']\n",
    "    \n",
    "    # plot histgram\n",
    "    x = np.arange(len(classes))\n",
    "    plt.bar(x, cntObject, color = colorOfClass)\n",
    "    plt.xticks(x, classes)\n",
    "    plt.xlabel('Classes')\n",
    "    plt.ylabel('Number of objects')\n",
    "    plt.show()\n",
    "    \n",
    "    #plot pie\n",
    "    explodeCoef = [0.1, 0.2, 0.2]\n",
    "    plt.pie(cntObject, labels = classes, explode = explodeCoef, shadow = True, autopct = '%1.1f%%')\n",
    "    plt.show()"
   ]
  },
  {
   "cell_type": "code",
   "execution_count": null,
   "metadata": {},
   "outputs": [],
   "source": [
    "# data distribution\n",
    "data_distribution_instances()"
   ]
  }
 ],
 "metadata": {
  "kernelspec": {
   "display_name": "Python 3 (ipykernel)",
   "language": "python",
   "name": "python3"
  },
  "language_info": {
   "codemirror_mode": {
    "name": "ipython",
    "version": 3
   },
   "file_extension": ".py",
   "mimetype": "text/x-python",
   "name": "python",
   "nbconvert_exporter": "python",
   "pygments_lexer": "ipython3",
   "version": "3.8.10"
  }
 },
 "nbformat": 4,
 "nbformat_minor": 4
}
